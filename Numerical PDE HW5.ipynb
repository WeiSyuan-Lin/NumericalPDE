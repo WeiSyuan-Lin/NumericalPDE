{
 "cells": [
  {
   "cell_type": "markdown",
   "id": "ca55095e",
   "metadata": {},
   "source": [
    "In this code ,I use three method to solve 2-d poisson equations with suitable Dirichlet boundary condition.\n",
    "\n",
    "Method 1 : Construct matrix \n",
    "\n",
    "Method 2 : Use DST\n",
    "\n",
    "Method 3 : Use FFT "
   ]
  },
  {
   "cell_type": "code",
   "execution_count": 1,
   "id": "e1be98c6",
   "metadata": {},
   "outputs": [],
   "source": [
    "import numpy as np\n",
    "import matplotlib.pyplot as plt\n",
    "from scipy.fft import fft, ifft,idst,dst"
   ]
  },
  {
   "cell_type": "code",
   "execution_count": 2,
   "id": "4f7cfc4f",
   "metadata": {},
   "outputs": [],
   "source": [
    "def Thomas_algorithm(A,F,m):\n",
    "    \n",
    "    c=A.diagonal(1)\n",
    "    b=A.diagonal()\n",
    "    a=A.diagonal(-1)\n",
    "    c_prime=np.zeros(len(c))\n",
    "    d_prime=np.zeros(len(b))\n",
    "    u=np.zeros(m-1)\n",
    "    \n",
    "    c_prime[0]=c[0]/b[0]\n",
    "    for i in range(1,m-2):\n",
    "        c_prime[i]=c[i]/(b[i]-a[i]*c_prime[i-1])\n",
    "    \n",
    "    d_prime[0]=F[0]/b[0]\n",
    "    \n",
    "    for i in range(1,m-1):\n",
    "        d_prime[i]=(F[i]-a[i-1]*d_prime[i-1])/(b[i]-a[i-1]*c_prime[i-1])\n",
    "    \n",
    "    u[-1]=d_prime[-1]\n",
    "    for i in range(1,m-1):\n",
    "        u[m-2-i]=d_prime[m-2-i]-c_prime[m-2-i]*u[m-2-i+1]\n",
    "    \n",
    "    return u"
   ]
  },
  {
   "cell_type": "code",
   "execution_count": null,
   "id": "c94be2f0",
   "metadata": {},
   "outputs": [],
   "source": []
  },
  {
   "cell_type": "code",
   "execution_count": 3,
   "id": "0ee51d63",
   "metadata": {},
   "outputs": [],
   "source": [
    "def force1(points):\n",
    "    return 4*np.ones(len(points)).reshape(len(points),1)\n",
    "def force2(points):\n",
    "    return 2*np.exp(np.sum(points,1)).reshape(len(points),1)\n",
    "\n",
    "def exact_sol1(points):\n",
    "    return np.sum(points**2,1).reshape(len(points),1)\n",
    "\n",
    "def exact_sol2(points):\n",
    "    return np.exp(np.sum(points,1)).reshape(len(points),1)"
   ]
  },
  {
   "cell_type": "code",
   "execution_count": null,
   "id": "20997373",
   "metadata": {},
   "outputs": [],
   "source": []
  },
  {
   "cell_type": "code",
   "execution_count": 4,
   "id": "0e582eed",
   "metadata": {},
   "outputs": [],
   "source": [
    "def total_b1(a,b,n):\n",
    "    x=np.linspace(a,b,n+1)\n",
    "    x=x[1:-1]\n",
    "    y=np.linspace(a,b,n+1)\n",
    "    y=y[1:-1]\n",
    "    h=1/n\n",
    "    [X,Y]=np.meshgrid(x,y)\n",
    "    grid_points=np.hstack([X.reshape(len(X)**2,1),Y.reshape(len(Y)**2,1)])\n",
    "    F=force1(grid_points)\n",
    "    step=n-1\n",
    "    \n",
    "    Ui0=(grid_points[1:n-2][:,0])**2+a**2\n",
    "    Ui0=Ui0.reshape(len(Ui0),1)\n",
    "    F[1:n-2]=F[1:n-2]-((1/h)**2)*Ui0\n",
    "\n",
    "    Uin=grid_points[1+(n-2)*step:n-2+(n-2)*step][:,0]**2+b**2\n",
    "    Uin=Uin.reshape(len(Uin),1)\n",
    "    F[1+(n-2)*step:n-2+(n-2)*step]=F[1+(n-2)*step:n-2+(n-2)*step]-((1/h)**2)*Uin\n",
    "    \n",
    "    for k in range(n-3):    \n",
    "        F[n-1+k*step]=F[n-1+k*step]-((1/h)**2)*((grid_points[n-1+k*step][1])**2+a**2)\n",
    "\n",
    "    for k in range(n-3):\n",
    "        F[n-2+n-1+k*step]=F[n-2+n-1+k*step]-((1/h)**2)*((grid_points[n-2+n-1+k*step][1])**2+b**2)\n",
    "        \n",
    "    F[0]=F[0]-((1/h)**2)*((grid_points[0][1])**2+a**2+(grid_points[0][0])**2+a**2)\n",
    "    F[0+n-2]=F[0+n-2]-((1/h)**2)*((grid_points[0+n-2][1])**2+b**2+(grid_points[0+n-2][0])**2+a**2)\n",
    "    F[0+(n-2)*(n-1)]=F[0+(n-2)*(n-1)]-((1/h)**2)*(grid_points[0+(n-2)*(n-1)][1]**2+a**2+grid_points[0+(n-2)*(n-1)][0]**2+b**2)\n",
    "    F[n-2+(n-2)*(n-1)]=F[n-2+(n-2)*(n-1)]-((1/h)**2)*(grid_points[n-2+(n-2)*(n-1)][0]**2+b**2+grid_points[n-2+(n-2)*(n-1)][1]**2+b**2)\n",
    "    \n",
    "    return F"
   ]
  },
  {
   "cell_type": "code",
   "execution_count": null,
   "id": "d6c3de41",
   "metadata": {},
   "outputs": [],
   "source": []
  },
  {
   "cell_type": "code",
   "execution_count": 5,
   "id": "5c8bc7b0",
   "metadata": {},
   "outputs": [],
   "source": [
    "def total_b2(a,b,n):\n",
    "    x=np.linspace(a,b,n+1)\n",
    "    x=x[1:-1]\n",
    "    y=np.linspace(a,b,n+1)\n",
    "    y=y[1:-1]\n",
    "    h=1/n\n",
    "    [X,Y]=np.meshgrid(x,y)\n",
    "    grid_points=np.hstack([X.reshape(len(X)**2,1),Y.reshape(len(Y)**2,1)])\n",
    "    F=force2(grid_points)\n",
    "    step=n-1\n",
    "    \n",
    "    Ui0=np.exp((grid_points[1:n-2][:,0])+a)\n",
    "    Ui0=Ui0.reshape(len(Ui0),1)\n",
    "    F[1:n-2]=F[1:n-2]-((1/h)**2)*Ui0\n",
    "\n",
    "    Uin=np.exp(grid_points[1+(n-2)*step:n-2+(n-2)*step][:,0]+b)\n",
    "    Uin=Uin.reshape(len(Uin),1)\n",
    "    F[1+(n-2)*step:n-2+(n-2)*step]=F[1+(n-2)*step:n-2+(n-2)*step]-((1/h)**2)*Uin\n",
    "    \n",
    "    for k in range(n-3):    \n",
    "        F[n-1+k*step]=F[n-1+k*step]-((1/h)**2)*np.exp((grid_points[n-1+k*step][1])+a)\n",
    "\n",
    "    for k in range(n-3):\n",
    "        F[n-2+n-1+k*step]=F[n-2+n-1+k*step]-((1/h)**2)*np.exp((grid_points[n-2+n-1+k*step][1])+b)\n",
    "        \n",
    "    F[0]=F[0]-((1/h)**2)*(np.exp((grid_points[0][1])+a)+np.exp((grid_points[0][0])+a))\n",
    "    F[0+n-2]=F[0+n-2]-((1/h)**2)*(np.exp((grid_points[0+n-2][1])+b)+np.exp((grid_points[0+n-2][0])+a))\n",
    "    F[0+(n-2)*(n-1)]=F[0+(n-2)*(n-1)]-((1/h)**2)*(np.exp(grid_points[0+(n-2)*(n-1)][1]+a)+np.exp(grid_points[0+(n-2)*(n-1)][0]+b))\n",
    "    F[n-2+(n-2)*(n-1)]=F[n-2+(n-2)*(n-1)]-((1/h)**2)*(np.exp(grid_points[n-2+(n-2)*(n-1)][0]+b)+np.exp(grid_points[n-2+(n-2)*(n-1)][1]+b))\n",
    "    \n",
    "    return F"
   ]
  },
  {
   "cell_type": "code",
   "execution_count": null,
   "id": "9302d2f1",
   "metadata": {},
   "outputs": [],
   "source": []
  },
  {
   "cell_type": "markdown",
   "id": "631a20e9",
   "metadata": {},
   "source": [
    "## Solve Poisson equation using 5-point Laplation"
   ]
  },
  {
   "cell_type": "markdown",
   "id": "e0441e06",
   "metadata": {},
   "source": [
    "Method 1 : Construct the large matrix A and to solve it"
   ]
  },
  {
   "cell_type": "markdown",
   "id": "bfb07c13",
   "metadata": {},
   "source": [
    "(a) exact solution $u(x,y)=x^2+y^2$"
   ]
  },
  {
   "cell_type": "code",
   "execution_count": 6,
   "id": "9067fa4d",
   "metadata": {},
   "outputs": [],
   "source": [
    "#we want to solve AU=b\n",
    "#Discretization\n",
    "n=10\n",
    "x=np.linspace(0,1,n+1)\n",
    "x=x[1:-1]\n",
    "y=np.linspace(0,1,n+1)\n",
    "y=y[1:-1]\n",
    "h=1/n\n",
    "[X,Y]=np.meshgrid(x,y)\n",
    "X.reshape(len(X)**2,1)\n",
    "Y.reshape(len(Y)**2,1)\n",
    "grid_points=np.hstack([X.reshape(len(X)**2,1),Y.reshape(len(Y)**2,1)])\n",
    "\n",
    "#Given b\n",
    "F=total_b1(0,1,n)\n",
    "b=(h**2)*F\n",
    "#F=total_b2(0,1,n)\n",
    "\n",
    "#construct A\n",
    "I=np.eye(n-1)\n",
    "T=(np.eye(n-1,k=1)-4*np.eye(n-1)+np.eye(n-1,k=-1))#*(1/h)**2\n",
    "I2=(np.eye(n-1,k=1)+np.eye(n-1,k=-1))\n",
    "\n",
    "A=np.kron(I2,I)+np.kron(I,T)\n",
    "\n",
    "U=np.linalg.solve(A,b)\n"
   ]
  },
  {
   "cell_type": "code",
   "execution_count": 7,
   "id": "392fb9bb",
   "metadata": {},
   "outputs": [
    {
     "data": {
      "text/plain": [
       "3.15965297802364e-15"
      ]
     },
     "execution_count": 7,
     "metadata": {},
     "output_type": "execute_result"
    }
   ],
   "source": [
    "np.linalg.norm(exact_sol1(grid_points)-U)"
   ]
  },
  {
   "cell_type": "markdown",
   "id": "028d294b",
   "metadata": {},
   "source": [
    "(b) exact solution $u(x,y)=e^{(x+y)}$"
   ]
  },
  {
   "cell_type": "code",
   "execution_count": 8,
   "id": "10bd9ad4",
   "metadata": {},
   "outputs": [],
   "source": [
    "#we want to solve AU=b\n",
    "#Discretization\n",
    "n=40\n",
    "x=np.linspace(0,1,n+1)\n",
    "x=x[1:-1]\n",
    "y=np.linspace(0,1,n+1)\n",
    "y=y[1:-1]\n",
    "h=1/n\n",
    "[X,Y]=np.meshgrid(x,y)\n",
    "X.reshape(len(X)**2,1)\n",
    "Y.reshape(len(Y)**2,1)\n",
    "grid_points=np.hstack([X.reshape(len(X)**2,1),Y.reshape(len(Y)**2,1)])\n",
    "\n",
    "#Given b\n",
    "F=total_b2(0,1,n)\n",
    "b=(h**2)*F\n",
    "#F=total_b2(0,1,n)\n",
    "\n",
    "#construct A\n",
    "I=np.eye(n-1)\n",
    "T=(np.eye(n-1,k=1)-4*np.eye(n-1)+np.eye(n-1,k=-1))#*(1/h)**2\n",
    "I2=(np.eye(n-1,k=1)+np.eye(n-1,k=-1))\n",
    "\n",
    "A=np.kron(I2,I)+np.kron(I,T)\n",
    "\n",
    "U=np.linalg.solve(A,b)"
   ]
  },
  {
   "cell_type": "code",
   "execution_count": 9,
   "id": "b67a9eb9",
   "metadata": {},
   "outputs": [
    {
     "data": {
      "text/plain": [
       "0.0004951169613611275"
      ]
     },
     "execution_count": 9,
     "metadata": {},
     "output_type": "execute_result"
    }
   ],
   "source": [
    "np.linalg.norm(exact_sol2(grid_points)-U)"
   ]
  },
  {
   "cell_type": "code",
   "execution_count": null,
   "id": "c00894d9",
   "metadata": {},
   "outputs": [],
   "source": []
  },
  {
   "cell_type": "markdown",
   "id": "5e60675c",
   "metadata": {},
   "source": [
    "Method 2 use DST\n",
    "\n",
    "(1) orthogonal matrix\n",
    "\n",
    "(2) DST"
   ]
  },
  {
   "cell_type": "markdown",
   "id": "6a66f0ca",
   "metadata": {},
   "source": [
    "(1) orthogonal matrix"
   ]
  },
  {
   "cell_type": "code",
   "execution_count": 23,
   "id": "22840ba4",
   "metadata": {},
   "outputs": [],
   "source": [
    "#consruct othogonal matrix\n",
    "Q=[]\n",
    "j=np.arange(1,n,1)\n",
    "for i in range(1,n):\n",
    "    Q.append(np.sin(i*np.pi*h*j))\n",
    "Q=np.array(Q)\n",
    "Q=Q*np.sqrt(2/n)"
   ]
  },
  {
   "cell_type": "code",
   "execution_count": 24,
   "id": "5499f46b",
   "metadata": {},
   "outputs": [],
   "source": [
    "def solve_one_system_Q(n,Q,F):\n",
    "    h=1/n\n",
    "    Ui=[]\n",
    "    for i in range(n-1):\n",
    "        bi=[]\n",
    "        ui=[]\n",
    "        step=n-1\n",
    "        for k in range(n-1):\n",
    "            bi.append(np.matmul(Q,(h**2)*F[0+k*step:n-1+k*step])[i].tolist())\n",
    "        bi=np.array(bi).reshape(len(bi),1)\n",
    "        A=np.eye(n-1,k=1)+np.eye(n-1,k=-1)+2*(np.cos(h*(i+1)*np.pi)-2)*np.eye(n-1)\n",
    "        ui=Thomas_algorithm(A,bi,n)\n",
    "        Ui.append(ui)\n",
    "    return Ui"
   ]
  },
  {
   "cell_type": "code",
   "execution_count": 25,
   "id": "b3c06cbb",
   "metadata": {},
   "outputs": [],
   "source": [
    "def transform_Q(Ui):\n",
    "    U_num=[]\n",
    "    for j in range(n-1):\n",
    "        U=[]\n",
    "        for k in range(n-1):\n",
    "            U.append(Ui[k][j])\n",
    "        U_num.append(np.matmul(Q,U))\n",
    "    return U_num"
   ]
  },
  {
   "cell_type": "markdown",
   "id": "90637712",
   "metadata": {},
   "source": [
    "(a) exact solution $u(x,y)=x^2+y^2$"
   ]
  },
  {
   "cell_type": "code",
   "execution_count": 26,
   "id": "740b471c",
   "metadata": {},
   "outputs": [],
   "source": [
    "#Discretization\n",
    "n=10\n",
    "x=np.linspace(0,1,n+1)\n",
    "x=x[1:-1]\n",
    "y=np.linspace(0,1,n+1)\n",
    "y=y[1:-1]\n",
    "h=1/n\n",
    "[X,Y]=np.meshgrid(x,y)\n",
    "X.reshape(len(X)**2,1)\n",
    "Y.reshape(len(Y)**2,1)\n",
    "grid_points=np.hstack([X.reshape(len(X)**2,1),Y.reshape(len(Y)**2,1)])\n",
    "\n",
    "F=total_b1(0,1,n)"
   ]
  },
  {
   "cell_type": "code",
   "execution_count": 27,
   "id": "2943cbf8",
   "metadata": {},
   "outputs": [],
   "source": [
    "Ui=solve_one_system_Q(n,Q,F)"
   ]
  },
  {
   "cell_type": "code",
   "execution_count": 28,
   "id": "304dac33",
   "metadata": {},
   "outputs": [],
   "source": [
    "U_num=transform_Q(Ui)"
   ]
  },
  {
   "cell_type": "code",
   "execution_count": 29,
   "id": "a97976be",
   "metadata": {},
   "outputs": [
    {
     "data": {
      "text/plain": [
       "4.7709336274776596e-15"
      ]
     },
     "execution_count": 29,
     "metadata": {},
     "output_type": "execute_result"
    }
   ],
   "source": [
    "np.linalg.norm(exact_sol1(grid_points)-np.stack(U_num).reshape(n-1*n-1,1))"
   ]
  },
  {
   "cell_type": "markdown",
   "id": "a94b2e89",
   "metadata": {},
   "source": [
    "(b) exact solution $u(x,y)=e^{(x+y)}$"
   ]
  },
  {
   "cell_type": "code",
   "execution_count": 30,
   "id": "b915da24",
   "metadata": {},
   "outputs": [],
   "source": [
    "#Discretization\n",
    "n=10\n",
    "x=np.linspace(0,1,n+1)\n",
    "x=x[1:-1]\n",
    "y=np.linspace(0,1,n+1)\n",
    "y=y[1:-1]\n",
    "h=1/n\n",
    "[X,Y]=np.meshgrid(x,y)\n",
    "X.reshape(len(X)**2,1)\n",
    "Y.reshape(len(Y)**2,1)\n",
    "grid_points=np.hstack([X.reshape(len(X)**2,1),Y.reshape(len(Y)**2,1)])\n",
    "\n",
    "F=total_b2(0,1,n)"
   ]
  },
  {
   "cell_type": "code",
   "execution_count": 31,
   "id": "ad20a2a6",
   "metadata": {},
   "outputs": [],
   "source": [
    "Ui=solve_one_system_Q(n,Q,F)\n",
    "U_num=transform_Q(Ui)"
   ]
  },
  {
   "cell_type": "code",
   "execution_count": 32,
   "id": "c2e75633",
   "metadata": {},
   "outputs": [
    {
     "data": {
      "text/plain": [
       "0.0019620005219436877"
      ]
     },
     "execution_count": 32,
     "metadata": {},
     "output_type": "execute_result"
    }
   ],
   "source": [
    "np.linalg.norm(exact_sol2(grid_points)-np.stack(U_num).reshape(n-1*n-1,1))"
   ]
  },
  {
   "cell_type": "markdown",
   "id": "ad5bb8de",
   "metadata": {},
   "source": [
    "(2) DST"
   ]
  },
  {
   "cell_type": "code",
   "execution_count": 33,
   "id": "38eafbff",
   "metadata": {},
   "outputs": [],
   "source": [
    "def solve_one_system(n,F):\n",
    "    h=1/n\n",
    "    Ui=[]\n",
    "    for i in range(n-1):\n",
    "        bi=[]\n",
    "        ui=[]\n",
    "        step=n-1\n",
    "        for k in range(n-1):\n",
    "            bi.append((0.5*dst((h**2)*F[0+k*step:n-1+k*step].flatten(),type=1)*np.sqrt(2/n))[i].tolist())\n",
    "        bi=np.array(bi).reshape(len(bi),1)\n",
    "        A=np.eye(n-1,k=1)+np.eye(n-1,k=-1)+2*(np.cos(h*(i+1)*np.pi)-2)*np.eye(n-1)\n",
    "        ui=Thomas_algorithm(A,bi,n)\n",
    "        Ui.append(ui)\n",
    "    return Ui"
   ]
  },
  {
   "cell_type": "code",
   "execution_count": 34,
   "id": "b15387d6",
   "metadata": {},
   "outputs": [],
   "source": [
    "def transform(Ui):\n",
    "    U_num=[]\n",
    "    for j in range(n-1):\n",
    "        U=[]\n",
    "        for k in range(n-1):\n",
    "            U.append(Ui[k][j])\n",
    "        U_num.append(2*idst(np.array(U).flatten(),type=1)/np.sqrt(2/n))\n",
    "    return U_num"
   ]
  },
  {
   "cell_type": "markdown",
   "id": "73dae060",
   "metadata": {},
   "source": [
    "(a) exact solution $u(x,y)=x^2+y^2$"
   ]
  },
  {
   "cell_type": "code",
   "execution_count": 35,
   "id": "4e45551e",
   "metadata": {},
   "outputs": [],
   "source": [
    "#Discretization\n",
    "n=10\n",
    "x=np.linspace(0,1,n+1)\n",
    "x=x[1:-1]\n",
    "y=np.linspace(0,1,n+1)\n",
    "y=y[1:-1]\n",
    "h=1/n\n",
    "[X,Y]=np.meshgrid(x,y)\n",
    "X.reshape(len(X)**2,1)\n",
    "Y.reshape(len(Y)**2,1)\n",
    "grid_points=np.hstack([X.reshape(len(X)**2,1),Y.reshape(len(Y)**2,1)])\n",
    "\n",
    "F=total_b1(0,1,n)"
   ]
  },
  {
   "cell_type": "code",
   "execution_count": 36,
   "id": "f208d35e",
   "metadata": {},
   "outputs": [],
   "source": [
    "Ui=solve_one_system(n,F)"
   ]
  },
  {
   "cell_type": "code",
   "execution_count": 37,
   "id": "d0dc4d25",
   "metadata": {},
   "outputs": [],
   "source": [
    "U_num=transform(Ui)"
   ]
  },
  {
   "cell_type": "code",
   "execution_count": 38,
   "id": "77166007",
   "metadata": {},
   "outputs": [
    {
     "data": {
      "text/plain": [
       "3.315769528984564e-15"
      ]
     },
     "execution_count": 38,
     "metadata": {},
     "output_type": "execute_result"
    }
   ],
   "source": [
    "np.linalg.norm(exact_sol1(grid_points)-np.stack(U_num).reshape(n-1*n-1,1))"
   ]
  },
  {
   "cell_type": "markdown",
   "id": "d6dc312b",
   "metadata": {},
   "source": [
    "(b) exact solution $u(x,y)=e^{(x+y)}$"
   ]
  },
  {
   "cell_type": "code",
   "execution_count": 39,
   "id": "c33059bd",
   "metadata": {},
   "outputs": [],
   "source": [
    "#Discretization\n",
    "n=10\n",
    "x=np.linspace(0,1,n+1)\n",
    "x=x[1:-1]\n",
    "y=np.linspace(0,1,n+1)\n",
    "y=y[1:-1]\n",
    "h=1/n\n",
    "[X,Y]=np.meshgrid(x,y)\n",
    "X.reshape(len(X)**2,1)\n",
    "Y.reshape(len(Y)**2,1)\n",
    "grid_points=np.hstack([X.reshape(len(X)**2,1),Y.reshape(len(Y)**2,1)])\n",
    "\n",
    "F=total_b2(0,1,n)"
   ]
  },
  {
   "cell_type": "code",
   "execution_count": 40,
   "id": "34936803",
   "metadata": {},
   "outputs": [],
   "source": [
    "Ui=solve_one_system(n,F)\n",
    "U_num=transform(Ui)"
   ]
  },
  {
   "cell_type": "code",
   "execution_count": 41,
   "id": "dcc11b5f",
   "metadata": {},
   "outputs": [
    {
     "data": {
      "text/plain": [
       "0.0019620005219413293"
      ]
     },
     "execution_count": 41,
     "metadata": {},
     "output_type": "execute_result"
    }
   ],
   "source": [
    "np.linalg.norm(exact_sol2(grid_points)-np.stack(U_num).reshape(n-1*n-1,1))"
   ]
  },
  {
   "cell_type": "markdown",
   "id": "a9df153a",
   "metadata": {},
   "source": [
    "Method 3: FFT"
   ]
  },
  {
   "cell_type": "code",
   "execution_count": 42,
   "id": "72f1a511",
   "metadata": {},
   "outputs": [],
   "source": [
    "def solve_one_system_FFT(n,F):\n",
    "    h=1/n\n",
    "    Ui=[]\n",
    "    for i in range(n-1):\n",
    "        bi=[]\n",
    "        ui=[]\n",
    "        step=n-1\n",
    "        for k in range(n-1):\n",
    "            F_exttend=np.zeros(2*n)\n",
    "            F_exttend[1:n]=(h**2)*F[0+k*step:n-1+k*step].flatten()\n",
    "\n",
    "            bi.append(np.imag((2*ifft(F_exttend)*n*np.sqrt(2/n))[1:n])[i].tolist())\n",
    "        bi=np.array(bi).reshape(len(bi),1)\n",
    "        A=np.eye(n-1,k=1)+np.eye(n-1,k=-1)+2*(np.cos(h*(i+1)*np.pi)-2)*np.eye(n-1)\n",
    "        ui=Thomas_algorithm(A,bi,n)\n",
    "        Ui.append(ui)\n",
    "    return Ui"
   ]
  },
  {
   "cell_type": "code",
   "execution_count": 43,
   "id": "17d0530f",
   "metadata": {},
   "outputs": [],
   "source": [
    "def transform_FFT(Ui):\n",
    "    U_num=[]\n",
    "    for j in range(n-1):\n",
    "        U=[]\n",
    "        for k in range(n-1):\n",
    "            U.append(Ui[k][j])\n",
    "        U_extend=np.zeros(2*n)\n",
    "        U_extend[1:n]=U\n",
    "        U_num.append(-1*np.imag(fft((U_extend)*np.sqrt(2/n)))[1:n])\n",
    "    return U_num"
   ]
  },
  {
   "cell_type": "markdown",
   "id": "196f7a1c",
   "metadata": {},
   "source": [
    "(a) exact solution $u(x,y)=x^2+y^2$"
   ]
  },
  {
   "cell_type": "code",
   "execution_count": 193,
   "id": "5aac986f",
   "metadata": {},
   "outputs": [],
   "source": [
    "#Discretization\n",
    "n=64\n",
    "x=np.linspace(0,1,n+1)\n",
    "x=x[1:-1]\n",
    "y=np.linspace(0,1,n+1)\n",
    "y=y[1:-1]\n",
    "h=1/n\n",
    "[X,Y]=np.meshgrid(x,y)\n",
    "X.reshape(len(X)**2,1)\n",
    "Y.reshape(len(Y)**2,1)\n",
    "grid_points=np.hstack([X.reshape(len(X)**2,1),Y.reshape(len(Y)**2,1)])\n",
    "\n",
    "F=total_b1(0,1,n)"
   ]
  },
  {
   "cell_type": "code",
   "execution_count": 194,
   "id": "221a0498",
   "metadata": {},
   "outputs": [],
   "source": [
    "Ui=solve_one_system_FFT(n,F)"
   ]
  },
  {
   "cell_type": "code",
   "execution_count": 195,
   "id": "195b2e6c",
   "metadata": {},
   "outputs": [],
   "source": [
    "U_num=transform_FFT(Ui)"
   ]
  },
  {
   "cell_type": "code",
   "execution_count": 196,
   "id": "4512796c",
   "metadata": {},
   "outputs": [
    {
     "data": {
      "text/plain": [
       "2.707160766531936e-13"
      ]
     },
     "execution_count": 196,
     "metadata": {},
     "output_type": "execute_result"
    }
   ],
   "source": [
    "np.linalg.norm(exact_sol1(grid_points)-np.stack(U_num).reshape(n-1*n-1,1))"
   ]
  },
  {
   "cell_type": "code",
   "execution_count": 182,
   "id": "a783442a",
   "metadata": {},
   "outputs": [],
   "source": [
    "#Err8=np.linalg.norm(exact_sol1(grid_points)-np.stack(U_num).reshape(n-1*n-1,1))"
   ]
  },
  {
   "cell_type": "code",
   "execution_count": 187,
   "id": "03a7d5e0",
   "metadata": {},
   "outputs": [],
   "source": [
    "#Err16=np.linalg.norm(exact_sol1(grid_points)-np.stack(U_num).reshape(n-1*n-1,1))"
   ]
  },
  {
   "cell_type": "code",
   "execution_count": 192,
   "id": "e2c7d812",
   "metadata": {},
   "outputs": [],
   "source": [
    "#Err32=np.linalg.norm(exact_sol1(grid_points)-np.stack(U_num).reshape(n-1*n-1,1))"
   ]
  },
  {
   "cell_type": "code",
   "execution_count": 197,
   "id": "9fad1f1b",
   "metadata": {},
   "outputs": [],
   "source": [
    "#Err64=np.linalg.norm(exact_sol1(grid_points)-np.stack(U_num).reshape(n-1*n-1,1))"
   ]
  },
  {
   "cell_type": "code",
   "execution_count": 198,
   "id": "21e61a38",
   "metadata": {},
   "outputs": [
    {
     "data": {
      "text/plain": [
       "[<matplotlib.lines.Line2D at 0x1e3fe0f7c70>]"
      ]
     },
     "execution_count": 198,
     "metadata": {},
     "output_type": "execute_result"
    },
    {
     "data": {
      "image/png": "[encoded data removed]",
      "text/plain": [
       "<Figure size 432x288 with 1 Axes>"
      ]
     },
     "metadata": {
      "needs_background": "light"
     },
     "output_type": "display_data"
    }
   ],
   "source": [
    "Err=[Err8,Err16,Err32,Err64]\n",
    "t=np.arange(3,7)\n",
    "plt.plot(1/2**t,Err)\n"
   ]
  },
  {
   "cell_type": "code",
   "execution_count": null,
   "id": "7fd5f5c0",
   "metadata": {},
   "outputs": [],
   "source": []
  },
  {
   "cell_type": "code",
   "execution_count": 199,
   "id": "ccf742ed",
   "metadata": {},
   "outputs": [
    {
     "data": {
      "text/plain": [
       "[7.125132513437735e-16,\n",
       " 6.126127754814409e-15,\n",
       " 9.158372662324876e-14,\n",
       " 2.707160766531936e-13]"
      ]
     },
     "execution_count": 199,
     "metadata": {},
     "output_type": "execute_result"
    }
   ],
   "source": [
    "Err"
   ]
  },
  {
   "cell_type": "code",
   "execution_count": 202,
   "id": "adb4b076",
   "metadata": {},
   "outputs": [
    {
     "data": {
      "text/plain": [
       "-1.5636173896335672"
      ]
     },
     "execution_count": 202,
     "metadata": {},
     "output_type": "execute_result"
    }
   ],
   "source": [
    "i=2\n",
    "np.log2(Err[i]/Err[i+1])"
   ]
  },
  {
   "cell_type": "markdown",
   "id": "2bb1fa00",
   "metadata": {},
   "source": [
    "(b) exact solution $u(x,y)=e^{(x+y)}$"
   ]
  },
  {
   "cell_type": "code",
   "execution_count": 213,
   "id": "460c5aa5",
   "metadata": {},
   "outputs": [],
   "source": [
    "#Discretization\n",
    "n=32\n",
    "x=np.linspace(0,1,n+1)\n",
    "x=x[1:-1]\n",
    "y=np.linspace(0,1,n+1)\n",
    "y=y[1:-1]\n",
    "h=1/n\n",
    "[X,Y]=np.meshgrid(x,y)\n",
    "X.reshape(len(X)**2,1)\n",
    "Y.reshape(len(Y)**2,1)\n",
    "grid_points=np.hstack([X.reshape(len(X)**2,1),Y.reshape(len(Y)**2,1)])\n",
    "\n",
    "F=total_b2(0,1,n)"
   ]
  },
  {
   "cell_type": "code",
   "execution_count": 214,
   "id": "7ccfe7a7",
   "metadata": {},
   "outputs": [],
   "source": [
    "Ui=solve_one_system_FFT(n,F)"
   ]
  },
  {
   "cell_type": "code",
   "execution_count": 215,
   "id": "3667bd03",
   "metadata": {},
   "outputs": [],
   "source": [
    "U_num=transform_FFT(Ui)"
   ]
  },
  {
   "cell_type": "code",
   "execution_count": 216,
   "id": "3f980b27",
   "metadata": {},
   "outputs": [
    {
     "data": {
      "text/plain": [
       "0.0006186827991592411"
      ]
     },
     "execution_count": 216,
     "metadata": {},
     "output_type": "execute_result"
    }
   ],
   "source": [
    "np.linalg.norm(exact_sol2(grid_points)-np.stack(U_num).reshape(n-1*n-1,1))"
   ]
  },
  {
   "cell_type": "code",
   "execution_count": 207,
   "id": "419c2c46",
   "metadata": {},
   "outputs": [],
   "source": [
    "#Err8=np.linalg.norm(exact_sol1(grid_points)-np.stack(U_num).reshape(n-1*n-1,1))"
   ]
  },
  {
   "cell_type": "code",
   "execution_count": 212,
   "id": "87cb4837",
   "metadata": {},
   "outputs": [],
   "source": [
    "#Err16=np.linalg.norm(exact_sol1(grid_points)-np.stack(U_num).reshape(n-1*n-1,1))"
   ]
  },
  {
   "cell_type": "code",
   "execution_count": 217,
   "id": "f4f318fa",
   "metadata": {},
   "outputs": [],
   "source": [
    "#Err32=np.linalg.norm(exact_sol1(grid_points)-np.stack(U_num).reshape(n-1*n-1,1))"
   ]
  },
  {
   "cell_type": "code",
   "execution_count": null,
   "id": "695421ab",
   "metadata": {},
   "outputs": [],
   "source": []
  },
  {
   "cell_type": "code",
   "execution_count": null,
   "id": "08a194a1",
   "metadata": {},
   "outputs": [],
   "source": []
  },
  {
   "cell_type": "markdown",
   "id": "53083400",
   "metadata": {},
   "source": [
    "## Use 9-point Laplacian"
   ]
  },
  {
   "cell_type": "code",
   "execution_count": null,
   "id": "73c187f7",
   "metadata": {},
   "outputs": [],
   "source": []
  },
  {
   "cell_type": "code",
   "execution_count": 53,
   "id": "0c872285",
   "metadata": {},
   "outputs": [],
   "source": [
    "def modified_F1(F,n):\n",
    "    F=F.reshape(n+1,n+1)\n",
    "    F_bar=[]\n",
    "    for x_axis in range(1,n):\n",
    "        for y_axis in range(1,n):\n",
    "            F_bar.append(F[x_axis+1][y_axis]+F[x_axis-1][y_axis]+F[x_axis][y_axis+1]+F[x_axis][y_axis-1]-4*F[x_axis][y_axis])\n",
    "    return (1/12)*np.array(F_bar)"
   ]
  },
  {
   "cell_type": "code",
   "execution_count": 54,
   "id": "148ca02a",
   "metadata": {},
   "outputs": [],
   "source": [
    "def modified_F2(F,n,a,b):\n",
    "    step=n-1\n",
    "    h=1/n\n",
    "    Ui0=(4*(grid_points[1:n-2][:,0])**2+a**2)+(grid_points[2:n-1][:,0])**2+a**2+(grid_points[0:n-3][:,0])**2+a**2\n",
    "    F[1:n-2]=F[1:n-2]-(1/(6*h**2))*Ui0\n",
    "    \n",
    "    Uin=4*(grid_points[1+(n-2)*step:n-2+(n-2)*step][:,0]**2+b**2)+grid_points[2+(n-2)*step:n-1+(n-2)*step][:,0]**2+b**2+grid_points[(n-2)*step:n-3+(n-2)*step][:,0]**2+b**2\n",
    "    F[1+(n-2)*step:n-2+(n-2)*step]=F[1+(n-2)*step:n-2+(n-2)*step]-(1/(6*h**2))*Uin\n",
    "    \n",
    "    for k in range(n-3):\n",
    "        F[n-1+k*step]=F[n-1+k*step]-(1/(6*h**2))*((4*(grid_points[n-1+k*step][1]**2+a**2))+(grid_points[n-1+(k+1)*step][1]**2+a**2)+(grid_points[n-1+(k-1)*step][1]**2+a**2))\n",
    "    \n",
    "    for k in range(n-3):\n",
    "        F[n-2+n-1+k*step]=F[n-2+n-1+k*step]-(1/(6*h**2))*(4*(grid_points[n-2+n-1+k*step][1]**2+b**2)+(grid_points[n-2+n-1+(k+1)*step][1]**2+b**2)+(grid_points[n-2+n-1+(k-1)*step][1]**2+b**2))\n",
    "    \n",
    "    F[0]=F[0]-(1/(6*h**2))*(4*((grid_points[0][1]**2+a**2)+grid_points[0][0]**2+a**2)+(grid_points[1][0])**2+a**2+(grid_points[1][0])**2+a**2+(a**2+a**2))\n",
    "    F[0+n-2]=F[0+n-2]-(1/(6*h**2))*(4*((grid_points[0+n-2][1]**2+b**2)+(grid_points[0+n-2][0]**2+a**2))+(grid_points[0+n-2+step][1]**2+b**2)+(grid_points[0+n-3][0]**2+a**2)+(a**2+b**2))\n",
    "    F[0+(n-2)*(n-1)]=F[0+(n-2)*(n-1)]-(1/(6*h**2))*(4*((grid_points[0+(n-2)*(n-1)][1]**2+a**2)+(grid_points[0+(n-2)*(n-1)][0]**2+b**2))+(grid_points[1+(n-2)*(n-1)][0]**2+b**2)+(a**2+b**2)+(grid_points[0+(n-3)*(n-1)][1]**2+a**2))\n",
    "    F[n-2+(n-2)*(n-1)]=F[n-2+(n-2)*(n-1)]-(1/(6*h**2))*(4*((grid_points[n-2+(n-2)*(n-1)][1]**2+b**2)+(grid_points[n-2+(n-2)*(n-1)][0]**2+b**2))+(b**2+b**2)+(grid_points[n-3+(n-2)*(n-1)][0]**2+b**2)+(grid_points[n-2+(n-3)*(n-1)][1]**2+b**2))\n",
    "    \n",
    "    return F "
   ]
  },
  {
   "cell_type": "code",
   "execution_count": null,
   "id": "2f07a3ba",
   "metadata": {},
   "outputs": [],
   "source": []
  },
  {
   "cell_type": "code",
   "execution_count": 55,
   "id": "389b6d96",
   "metadata": {},
   "outputs": [],
   "source": [
    "def modified_F3(F,n,a,b):\n",
    "    step=n-1\n",
    "    h=1/n\n",
    "    Ui0=4*np.exp(grid_points[1:n-2][:,0]+a)+np.exp(grid_points[2:n-1][:,0]+a)+np.exp(grid_points[0:n-3][:,0]+a)\n",
    "    F[1:n-2]=F[1:n-2]-(1/(6*h**2))*Ui0\n",
    "    \n",
    "    Uin=4*np.exp(grid_points[1+(n-2)*step:n-2+(n-2)*step][:,0]+b)+np.exp(grid_points[2+(n-2)*step:n-1+(n-2)*step][:,0]+b)+np.exp(grid_points[(n-2)*step:n-3+(n-2)*step][:,0]+b)\n",
    "    F[1+(n-2)*step:n-2+(n-2)*step]=F[1+(n-2)*step:n-2+(n-2)*step]-(1/(6*h**2))*Uin\n",
    "    \n",
    "    for k in range(n-3):\n",
    "        F[n-1+k*step]=F[n-1+k*step]-(1/(6*h**2))*(4*np.exp(grid_points[n-1+k*step][1]+a)+np.exp(grid_points[n-1+(k+1)*step][1]+a)+np.exp(grid_points[n-1+(k-1)*step][1]+a))\n",
    "    \n",
    "    for k in range(n-3):\n",
    "        F[n-2+n-1+k*step]=F[n-2+n-1+k*step]-(1/(6*h**2))*(4*np.exp(grid_points[n-2+n-1+k*step][1]+b)+np.exp(grid_points[n-2+n-1+(k+1)*step][1]+b)+np.exp(grid_points[n-2+n-1+(k-1)*step][1]+b))\n",
    "    \n",
    "    F[0]=F[0]-(1/(6*h**2))*(4*(np.exp(grid_points[0][1]+a)+np.exp(grid_points[0][0]+a))+np.exp(grid_points[1][0]+a)+np.exp(grid_points[1][0]+a)+np.exp(a+a))\n",
    "    F[0+n-2]=F[0+n-2]-(1/(6*h**2))*(4*(np.exp(grid_points[0+n-2][1]+b)+np.exp(grid_points[0+n-2][0]+a))+np.exp(grid_points[0+n-2+step][1]+b)+np.exp(grid_points[0+n-3][0]+a)+np.exp(a+b))\n",
    "    F[0+(n-2)*(n-1)]=F[0+(n-2)*(n-1)]-(1/(6*h**2))*(4*(np.exp(grid_points[0+(n-2)*(n-1)][1]+a)+np.exp(grid_points[0+(n-2)*(n-1)][0]+b))+np.exp(grid_points[1+(n-2)*(n-1)][0]+b)+np.exp(a+b)+np.exp(grid_points[0+(n-3)*(n-1)][1]+a))\n",
    "    F[n-2+(n-2)*(n-1)]=F[n-2+(n-2)*(n-1)]-(1/(6*h**2))*(4*(np.exp(grid_points[n-2+(n-2)*(n-1)][1]+b)+np.exp(grid_points[n-2+(n-2)*(n-1)][0]+b))+np.exp(b+b)+np.exp(grid_points[n-3+(n-2)*(n-1)][0]+b)+np.exp(grid_points[n-2+(n-3)*(n-1)][1]+b))\n",
    "    \n",
    "    return F "
   ]
  },
  {
   "cell_type": "markdown",
   "id": "d5862fea",
   "metadata": {},
   "source": [
    "## Construct matrix"
   ]
  },
  {
   "cell_type": "code",
   "execution_count": 88,
   "id": "526362cb",
   "metadata": {},
   "outputs": [],
   "source": [
    "n=10\n",
    "[a,b]=[0,1]\n",
    "x=np.linspace(a,b,n+1)\n",
    "\n",
    "y=np.linspace(a,b,n+1)\n",
    "h=1/n\n",
    "[X,Y]=np.meshgrid(x,y)\n",
    "grid_points=np.hstack([X.reshape(len(X)**2,1),Y.reshape(len(Y)**2,1)])\n",
    "F=force1(grid_points)\n",
    "F_bar=modified_F1(F,n)\n",
    "\n",
    "x=np.linspace(a,b,n+1)\n",
    "x=x[1:-1]\n",
    "y=np.linspace(a,b,n+1)\n",
    "y=y[1:-1]\n",
    "h=1/n\n",
    "[X,Y]=np.meshgrid(x,y)\n",
    "grid_points=np.hstack([X.reshape(len(X)**2,1),Y.reshape(len(Y)**2,1)])\n",
    "F=F_bar+force1(grid_points).flatten()"
   ]
  },
  {
   "cell_type": "code",
   "execution_count": 89,
   "id": "570e8159",
   "metadata": {},
   "outputs": [],
   "source": [
    "F=modified_F2(F,n,a,b)#modified_F3(F,n,a,b) for case (b)"
   ]
  },
  {
   "cell_type": "code",
   "execution_count": 90,
   "id": "f6fb4bd6",
   "metadata": {},
   "outputs": [],
   "source": [
    "#construct A\n",
    "I=np.eye(n-1)\n",
    "T=(4*np.eye(n-1,k=1)-20*np.eye(n-1)+4*np.eye(n-1,k=-1))#*(1/h)**2\n",
    "I2=(np.eye(n-1,k=1)+np.eye(n-1,k=-1))\n",
    "B=(np.eye(n-1,k=1)+4*np.eye(n-1)+np.eye(n-1,k=-1))#*(1/h)**2\n",
    "A=np.kron(I2,B)+np.kron(I,T)"
   ]
  },
  {
   "cell_type": "code",
   "execution_count": null,
   "id": "095ca34b",
   "metadata": {},
   "outputs": [],
   "source": []
  },
  {
   "cell_type": "code",
   "execution_count": 91,
   "id": "f4e31753",
   "metadata": {},
   "outputs": [],
   "source": [
    "F=F.reshape(len(F),1)\n",
    "bs=6*(h**2)*F\n",
    "U=np.linalg.solve(A,bs)"
   ]
  },
  {
   "cell_type": "code",
   "execution_count": 92,
   "id": "ce9fbb16",
   "metadata": {},
   "outputs": [
    {
     "data": {
      "text/plain": [
       "1.5543122344752192e-15"
      ]
     },
     "execution_count": 92,
     "metadata": {},
     "output_type": "execute_result"
    }
   ],
   "source": [
    "np.linalg.norm(exact_sol1(grid_points)-U,np.inf)"
   ]
  },
  {
   "cell_type": "code",
   "execution_count": 94,
   "id": "56f63db0",
   "metadata": {},
   "outputs": [
    {
     "data": {
      "text/plain": [
       "1.5543122344752192e-15"
      ]
     },
     "execution_count": 94,
     "metadata": {},
     "output_type": "execute_result"
    }
   ],
   "source": [
    "np.linalg.norm(exact_sol1(grid_points)-U,np.inf)"
   ]
  },
  {
   "cell_type": "code",
   "execution_count": null,
   "id": "7841f96a",
   "metadata": {},
   "outputs": [],
   "source": []
  },
  {
   "cell_type": "code",
   "execution_count": 95,
   "id": "9e9bc7b8",
   "metadata": {},
   "outputs": [
    {
     "data": {
      "text/plain": [
       "[<matplotlib.lines.Line2D at 0x1e3fcbcda00>]"
      ]
     },
     "execution_count": 95,
     "metadata": {},
     "output_type": "execute_result"
    },
    {
     "data": {
      "image/png": "[encoded data removed]",
      "text/plain": [
       "<Figure size 432x288 with 1 Axes>"
      ]
     },
     "metadata": {
      "needs_background": "light"
     },
     "output_type": "display_data"
    }
   ],
   "source": [
    "plt.plot(x,U[:n-1])\n",
    "plt.plot(x,exact_sol1(grid_points)[:n-1])"
   ]
  },
  {
   "cell_type": "markdown",
   "id": "e63aeecf",
   "metadata": {},
   "source": [
    "## FFT"
   ]
  },
  {
   "cell_type": "code",
   "execution_count": 118,
   "id": "d9707ba4",
   "metadata": {},
   "outputs": [],
   "source": [
    "def one_system_FFT_9(F,n,ET,EB):\n",
    "    h=1/n\n",
    "    Ui=[]\n",
    "    for i in range(n-1):\n",
    "        bi=[]\n",
    "        ui=[]\n",
    "        step=n-1\n",
    "        for k in range(n-1):\n",
    "            F_exttend=np.zeros(2*n)\n",
    "            F_exttend[1:n]=6*(h**2)*F[0+k*step:n-1+k*step].flatten()\n",
    "            bi.append(np.imag((2*ifft(F_exttend)*n*np.sqrt(2/n))[1:n])[i].tolist())\n",
    "        bi=np.array(bi).reshape(len(bi),1)\n",
    "        A=EB[i]*np.eye(n-1,k=1)+EB[i]*np.eye(n-1,k=-1)+ET[i]*np.eye(n-1)\n",
    "        ui=Thomas_algorithm(A,bi,n)\n",
    "        Ui.append(ui)\n",
    "    return Ui"
   ]
  },
  {
   "cell_type": "code",
   "execution_count": 120,
   "id": "a4e2db83",
   "metadata": {},
   "outputs": [],
   "source": [
    "def transform_FFT_9(Ui,n):\n",
    "    U_num=[]\n",
    "    for j in range(n-1):\n",
    "        U=[]\n",
    "        for k in range(n-1):\n",
    "            U.append(Ui[k][j])\n",
    "        U_extend=np.zeros(2*n)\n",
    "        U_extend[1:n]=U\n",
    "        U_num.append(-1*np.imag(fft((U_extend)*np.sqrt(2/n)))[1:n])\n",
    "    return U_num"
   ]
  },
  {
   "cell_type": "code",
   "execution_count": 155,
   "id": "7154c24a",
   "metadata": {},
   "outputs": [],
   "source": [
    "n=64\n",
    "[a,b]=[0,1]\n",
    "x=np.linspace(a,b,n+1)\n",
    "\n",
    "y=np.linspace(a,b,n+1)\n",
    "h=1/n\n",
    "[X,Y]=np.meshgrid(x,y)\n",
    "grid_points=np.hstack([X.reshape(len(X)**2,1),Y.reshape(len(Y)**2,1)])\n",
    "F=force1(grid_points)#force2(grid_points)\n",
    "F_bar=modified_F1(F,n)\n",
    "x=np.linspace(a,b,n+1)\n",
    "x=x[1:-1]\n",
    "y=np.linspace(a,b,n+1)\n",
    "y=y[1:-1]\n",
    "h=1/n\n",
    "[X,Y]=np.meshgrid(x,y)\n",
    "grid_points=np.hstack([X.reshape(len(X)**2,1),Y.reshape(len(Y)**2,1)])\n",
    "F=F_bar+force1(grid_points).flatten()\n",
    "F=modified_F2(F,n,a,b)#modified_F3(F,n,a,b)"
   ]
  },
  {
   "cell_type": "code",
   "execution_count": 156,
   "id": "e137be96",
   "metadata": {},
   "outputs": [],
   "source": [
    "B=(np.eye(n-1,k=1)+4*np.eye(n-1)+np.eye(n-1,k=-1))#*(1/h)**2\n",
    "T=(4*np.eye(n-1,k=1)-20*np.eye(n-1)+4*np.eye(n-1,k=-1))#*(1/h)**2\n",
    "[E,V]=np.linalg.eig(T)\n",
    "idx=np.argsort(E)\n",
    "ET=E[idx[::-1]]\n",
    "[E,V]=np.linalg.eig(B)\n",
    "idx=np.argsort(E)\n",
    "EB=E[idx[::-1]]"
   ]
  },
  {
   "cell_type": "code",
   "execution_count": 157,
   "id": "05369734",
   "metadata": {},
   "outputs": [],
   "source": [
    "Ui=one_system_FFT_9(F,n,ET,EB)"
   ]
  },
  {
   "cell_type": "code",
   "execution_count": 158,
   "id": "ad83ebac",
   "metadata": {},
   "outputs": [],
   "source": [
    "U_num=transform_FFT_9(Ui,n)"
   ]
  },
  {
   "cell_type": "code",
   "execution_count": 159,
   "id": "d81885f2",
   "metadata": {},
   "outputs": [
    {
     "data": {
      "text/plain": [
       "[<matplotlib.lines.Line2D at 0x1e3fe022ca0>]"
      ]
     },
     "execution_count": 159,
     "metadata": {},
     "output_type": "execute_result"
    },
    {
     "data": {
      "image/png": "[encoded data removed]",
      "text/plain": [
       "<Figure size 432x288 with 1 Axes>"
      ]
     },
     "metadata": {
      "needs_background": "light"
     },
     "output_type": "display_data"
    }
   ],
   "source": [
    "plt.plot(x,U_num[0])\n",
    "plt.plot(x,exact_sol1(grid_points)[:n-1])"
   ]
  },
  {
   "cell_type": "code",
   "execution_count": 160,
   "id": "d031a731",
   "metadata": {},
   "outputs": [
    {
     "data": {
      "text/plain": [
       "6.041833700010102e-13"
      ]
     },
     "execution_count": 160,
     "metadata": {},
     "output_type": "execute_result"
    }
   ],
   "source": [
    "np.linalg.norm(exact_sol1(grid_points).flatten()-np.stack(U_num).flatten(),np.inf)"
   ]
  },
  {
   "cell_type": "code",
   "execution_count": 140,
   "id": "f6eb5d48",
   "metadata": {},
   "outputs": [],
   "source": [
    "#Err8=np.linalg.norm(exact_sol1(grid_points).flatten()-np.stack(U_num).flatten(),np.inf)"
   ]
  },
  {
   "cell_type": "code",
   "execution_count": 147,
   "id": "6ec4f69b",
   "metadata": {},
   "outputs": [],
   "source": [
    "#Err16=np.linalg.norm(exact_sol1(grid_points).flatten()-np.stack(U_num).flatten(),np.inf)"
   ]
  },
  {
   "cell_type": "code",
   "execution_count": 154,
   "id": "944312f7",
   "metadata": {},
   "outputs": [],
   "source": [
    "#Err32=np.linalg.norm(exact_sol1(grid_points).flatten()-np.stack(U_num).flatten(),np.inf)"
   ]
  },
  {
   "cell_type": "code",
   "execution_count": 162,
   "id": "a5b09c21",
   "metadata": {},
   "outputs": [],
   "source": [
    "#Err64=np.linalg.norm(exact_sol1(grid_points).flatten()-np.stack(U_num).flatten(),np.inf)"
   ]
  },
  {
   "cell_type": "code",
   "execution_count": 169,
   "id": "5d9314d6",
   "metadata": {
    "scrolled": true
   },
   "outputs": [
    {
     "data": {
      "text/plain": [
       "[<matplotlib.lines.Line2D at 0x1e3fe083f70>]"
      ]
     },
     "execution_count": 169,
     "metadata": {},
     "output_type": "execute_result"
    },
    {
     "data": {
      "image/png": "[encoded data removed]",
      "text/plain": [
       "<Figure size 432x288 with 1 Axes>"
      ]
     },
     "metadata": {
      "needs_background": "light"
     },
     "output_type": "display_data"
    }
   ],
   "source": [
    "Err=[Err8,Err16,Err32,Err64]\n",
    "t=np.arange(3,7)\n",
    "plt.plot(1/2**t,Err)\n"
   ]
  },
  {
   "cell_type": "code",
   "execution_count": 170,
   "id": "18c40ef3",
   "metadata": {},
   "outputs": [
    {
     "data": {
      "text/plain": [
       "[1.3322676295501878e-15,\n",
       " 2.886579864025407e-14,\n",
       " 1.6686652060116103e-13,\n",
       " 6.041833700010102e-13]"
      ]
     },
     "execution_count": 170,
     "metadata": {},
     "output_type": "execute_result"
    }
   ],
   "source": [
    "Err"
   ]
  },
  {
   "cell_type": "code",
   "execution_count": 175,
   "id": "8441ad48",
   "metadata": {},
   "outputs": [
    {
     "data": {
      "text/plain": [
       "-1.8562919473333142"
      ]
     },
     "execution_count": 175,
     "metadata": {},
     "output_type": "execute_result"
    }
   ],
   "source": [
    "i=2\n",
    "np.log2(Err[i]/Err[i+1])"
   ]
  },
  {
   "cell_type": "code",
   "execution_count": null,
   "id": "82fb5e9b",
   "metadata": {},
   "outputs": [],
   "source": []
  }
 ],
 "metadata": {
  "kernelspec": {
   "display_name": "Python 3",
   "language": "python",
   "name": "python3"
  },
  "language_info": {
   "codemirror_mode": {
    "name": "ipython",
    "version": 3
   },
   "file_extension": ".py",
   "mimetype": "text/x-python",
   "name": "python",
   "nbconvert_exporter": "python",
   "pygments_lexer": "ipython3",
   "version": "3.8.8"
  }
 },
 "nbformat": 4,
 "nbformat_minor": 5
}
