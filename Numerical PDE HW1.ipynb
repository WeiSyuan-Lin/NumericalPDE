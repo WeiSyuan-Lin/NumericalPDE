{
 "cells": [
  {
   "cell_type": "code",
   "execution_count": 1,
   "metadata": {},
   "outputs": [],
   "source": [
    "import numpy as np\n",
    "import matplotlib.pyplot as plt"
   ]
  },
  {
   "cell_type": "code",
   "execution_count": 3,
   "metadata": {},
   "outputs": [],
   "source": [
    "def GE(Cmatrix,vec):\n",
    "    n=len(vec)\n",
    "    for k in range(0,n-1): \n",
    "        for i in range(k+1,n):\n",
    "            if Cmatrix[i,k] != 0.0:\n",
    "                lam=Cmatrix[i,k]/Cmatrix[k,k]\n",
    "                Cmatrix[i,k:n]=Cmatrix[i,k:n]-lam*Cmatrix[k,k:n]                \n",
    "                vec[i]=vec[i]-lam*vec[k] \n",
    "    return Cmatrix,vec"
   ]
  },
  {
   "cell_type": "code",
   "execution_count": null,
   "metadata": {},
   "outputs": [],
   "source": []
  },
  {
   "cell_type": "code",
   "execution_count": 4,
   "metadata": {},
   "outputs": [],
   "source": [
    "def solvePoisson1(m):\n",
    "    h=1/(m)\n",
    "    x=np.linspace(0,1,m+1)\n",
    "    A=(np.eye(m-1,k=1)-2*np.eye(m-1)+np.eye(m-1,k=-1))*(1/h)**2\n",
    "    F=np.sin(np.pi*x[1:m])\n",
    "    [A,F]=GE(A,F)\n",
    "    \n",
    "    u=np.zeros(m-1)\n",
    "    u[m-1-1]=F[m-1-1]/A[m-1-1,m-1-1]\n",
    "    for i in range(m-2):\n",
    "        u[m-1-2-i]=(F[m-1-2-i]-np.dot(A[m-1-2-i][m-1-2-i+1:],u[m-1-2-i+1:]))/A[m-1-2-i,m-1-2-i]\n",
    "    return u"
   ]
  },
  {
   "cell_type": "code",
   "execution_count": 5,
   "metadata": {},
   "outputs": [
    {
     "data": {
      "text/plain": [
       "[<matplotlib.lines.Line2D at 0x24363be4640>]"
      ]
     },
     "execution_count": 5,
     "metadata": {},
     "output_type": "execute_result"
    },
    {
     "data": {
      "image/png": "[encoded data removed]",
      "text/plain": [
       "<Figure size 432x288 with 1 Axes>"
      ]
     },
     "metadata": {
      "needs_background": "light"
     },
     "output_type": "display_data"
    }
   ],
   "source": [
    "m=16\n",
    "u8=solvePoisson1(m)\n",
    "x=np.linspace(0,1,m+1)\n",
    "plt.plot(x[1:m],u8)\n",
    "plt.plot(x[1:m],-np.sin(np.pi*x[1:m])/(np.pi*np.pi))"
   ]
  },
  {
   "cell_type": "code",
   "execution_count": 6,
   "metadata": {},
   "outputs": [],
   "source": [
    "m=8\n",
    "u=solvePoisson1(m)\n",
    "x=np.linspace(0,1,m+1)\n",
    "exact=-1*np.sin(np.pi*x[1:m])/(np.pi*np.pi)\n",
    "err8=np.linalg.norm((u-exact),np.inf)"
   ]
  },
  {
   "cell_type": "code",
   "execution_count": 7,
   "metadata": {},
   "outputs": [],
   "source": [
    "m=16\n",
    "u=solvePoisson1(m)\n",
    "x=np.linspace(0,1,m+1)\n",
    "exact=-1*np.sin(np.pi*x[1:m])/(np.pi*np.pi)\n",
    "err16=np.linalg.norm((u-exact),np.inf)"
   ]
  },
  {
   "cell_type": "code",
   "execution_count": 8,
   "metadata": {},
   "outputs": [],
   "source": [
    "m=32\n",
    "u=solvePoisson1(m)\n",
    "x=np.linspace(0,1,m+1)\n",
    "exact=-1*np.sin(np.pi*x[1:m])/(np.pi*np.pi)\n",
    "err32=np.linalg.norm((u-exact),np.inf)"
   ]
  },
  {
   "cell_type": "code",
   "execution_count": 9,
   "metadata": {},
   "outputs": [],
   "source": [
    "m=64\n",
    "u=solvePoisson1(m)\n",
    "x=np.linspace(0,1,m+1)\n",
    "exact=-1*np.sin(np.pi*x[1:m])/(np.pi*np.pi)\n",
    "err64=np.linalg.norm((u-exact),np.inf)"
   ]
  },
  {
   "cell_type": "code",
   "execution_count": 10,
   "metadata": {},
   "outputs": [
    {
     "data": {
      "text/plain": [
       "2.0083667395261835"
      ]
     },
     "execution_count": 10,
     "metadata": {},
     "output_type": "execute_result"
    }
   ],
   "source": [
    "np.log2((err8/err16))"
   ]
  },
  {
   "cell_type": "code",
   "execution_count": 11,
   "metadata": {},
   "outputs": [
    {
     "data": {
      "text/plain": [
       "2.002087242820051"
      ]
     },
     "execution_count": 11,
     "metadata": {},
     "output_type": "execute_result"
    }
   ],
   "source": [
    "np.log2((err16/err32))"
   ]
  },
  {
   "cell_type": "code",
   "execution_count": 12,
   "metadata": {},
   "outputs": [
    {
     "data": {
      "text/plain": [
       "2.000521533818355"
      ]
     },
     "execution_count": 12,
     "metadata": {},
     "output_type": "execute_result"
    }
   ],
   "source": [
    "np.log2((err32/err64))"
   ]
  },
  {
   "cell_type": "code",
   "execution_count": null,
   "metadata": {},
   "outputs": [],
   "source": []
  },
  {
   "cell_type": "code",
   "execution_count": 31,
   "metadata": {},
   "outputs": [
    {
     "data": {
      "text/plain": [
       "<matplotlib.legend.Legend at 0x243654dc100>"
      ]
     },
     "execution_count": 31,
     "metadata": {},
     "output_type": "execute_result"
    },
    {
     "data": {
      "image/png": "[encoded data removed]",
      "text/plain": [
       "<Figure size 432x288 with 1 Axes>"
      ]
     },
     "metadata": {
      "needs_background": "light"
     },
     "output_type": "display_data"
    }
   ],
   "source": [
    "Err=np.array([err8,err16,err32,err64])\n",
    "\n",
    "h=np.array([1/8,1/16,1/32,1/64])\n",
    "\n",
    "plt.plot(np.log2(h),np.log2(Err),label='result')\n",
    "plt.plot(np.log2(h),2*np.log2(h),label='slope=2')\n",
    "plt.xlabel('log2(h)')\n",
    "plt.ylabel('log2(Err)')\n",
    "plt.legend()"
   ]
  },
  {
   "cell_type": "code",
   "execution_count": 67,
   "metadata": {},
   "outputs": [
    {
     "data": {
      "text/plain": [
       "array([4.88281250e-04, 1.22070313e-04, 3.05175781e-05, 7.62939453e-06])"
      ]
     },
     "execution_count": 67,
     "metadata": {},
     "output_type": "execute_result"
    }
   ],
   "source": [
    "Err"
   ]
  },
  {
   "cell_type": "code",
   "execution_count": null,
   "metadata": {},
   "outputs": [],
   "source": []
  },
  {
   "cell_type": "code",
   "execution_count": null,
   "metadata": {},
   "outputs": [],
   "source": []
  },
  {
   "cell_type": "code",
   "execution_count": 35,
   "metadata": {},
   "outputs": [],
   "source": [
    "def solvePoisson2(m):\n",
    "    h=1/(m)\n",
    "    x=np.linspace(0,1,m+1)\n",
    "    A=(np.eye(m-1,k=1)-2*np.eye(m-1)+np.eye(m-1,k=-1))*(1/h)**2\n",
    "    F=np.ones(m-1)\n",
    "    F[-1]=F[-1]-0.5*(1/h)**2\n",
    "    [A,F]=GE(A,F)\n",
    "    \n",
    "    u=np.zeros(m-1)\n",
    "    u[m-1-1]=F[m-1-1]/A[m-1-1,m-1-1]\n",
    "    for i in range(m-2):\n",
    "        u[m-1-2-i]=(F[m-1-2-i]-np.dot(A[m-1-2-i][m-1-2-i+1:],u[m-1-2-i+1:]))/A[m-1-2-i,m-1-2-i]\n",
    "    return u"
   ]
  },
  {
   "cell_type": "code",
   "execution_count": 36,
   "metadata": {},
   "outputs": [
    {
     "data": {
      "text/plain": [
       "[<matplotlib.lines.Line2D at 0x243655b7760>]"
      ]
     },
     "execution_count": 36,
     "metadata": {},
     "output_type": "execute_result"
    },
    {
     "data": {
      "image/png": "[encoded data removed]",
      "text/plain": [
       "<Figure size 432x288 with 1 Axes>"
      ]
     },
     "metadata": {
      "needs_background": "light"
     },
     "output_type": "display_data"
    }
   ],
   "source": [
    "m=64\n",
    "u8=solvePoisson2(m)\n",
    "x=np.linspace(0,1,m+1)\n",
    "plt.plot(x[1:m],u8)\n",
    "exact=0.5*x[1:m]**2\n",
    "plt.plot(x[1:m],exact)"
   ]
  },
  {
   "cell_type": "code",
   "execution_count": 103,
   "metadata": {},
   "outputs": [],
   "source": [
    "m=8\n",
    "u=solvePoisson2(m)\n",
    "x=np.linspace(0,1,m+1)\n",
    "exact=0.5*x[1:m]**2\n",
    "err8=np.linalg.norm((u-exact),np.inf)"
   ]
  },
  {
   "cell_type": "code",
   "execution_count": 104,
   "metadata": {},
   "outputs": [],
   "source": [
    "m=16\n",
    "u=solvePoisson2(m)\n",
    "x=np.linspace(0,1,m+1)\n",
    "exact=0.5*x[1:m]**2\n",
    "err16=np.linalg.norm((u-exact),np.inf)"
   ]
  },
  {
   "cell_type": "code",
   "execution_count": 105,
   "metadata": {},
   "outputs": [],
   "source": [
    "m=32\n",
    "u=solvePoisson2(m)\n",
    "x=np.linspace(0,1,m+1)\n",
    "exact=0.5*x[1:m]**2\n",
    "err32=np.linalg.norm((u-exact),np.inf)"
   ]
  },
  {
   "cell_type": "code",
   "execution_count": 106,
   "metadata": {},
   "outputs": [],
   "source": [
    "m=64\n",
    "u=solvePoisson2(m)\n",
    "x=np.linspace(0,1,m+1)\n",
    "exact=0.5*x[1:m]**2\n",
    "err64=np.linalg.norm((u-exact),np.inf)"
   ]
  },
  {
   "cell_type": "code",
   "execution_count": 107,
   "metadata": {},
   "outputs": [
    {
     "data": {
      "text/plain": [
       "1.0"
      ]
     },
     "execution_count": 107,
     "metadata": {},
     "output_type": "execute_result"
    }
   ],
   "source": [
    "np.log2((err8/err16))"
   ]
  },
  {
   "cell_type": "code",
   "execution_count": 108,
   "metadata": {},
   "outputs": [
    {
     "data": {
      "text/plain": [
       "-4.754887502163468"
      ]
     },
     "execution_count": 108,
     "metadata": {},
     "output_type": "execute_result"
    }
   ],
   "source": [
    "np.log2((err16/err32))"
   ]
  },
  {
   "cell_type": "code",
   "execution_count": 74,
   "metadata": {},
   "outputs": [
    {
     "data": {
      "text/plain": [
       "0.16992500144231237"
      ]
     },
     "execution_count": 74,
     "metadata": {},
     "output_type": "execute_result"
    }
   ],
   "source": [
    "np.log2((err32/err64))"
   ]
  },
  {
   "cell_type": "code",
   "execution_count": 75,
   "metadata": {},
   "outputs": [
    {
     "data": {
      "text/plain": [
       "<matplotlib.legend.Legend at 0x243658b3910>"
      ]
     },
     "execution_count": 75,
     "metadata": {},
     "output_type": "execute_result"
    },
    {
     "data": {
      "image/png": "[encoded data removed]",
      "text/plain": [
       "<Figure size 432x288 with 1 Axes>"
      ]
     },
     "metadata": {
      "needs_background": "light"
     },
     "output_type": "display_data"
    }
   ],
   "source": [
    "Err=np.array([err8,err16,err32,err64])\n",
    "\n",
    "h=np.array([1/8,1/16,1/32,1/64])\n",
    "\n",
    "plt.plot(np.log2(h),np.log2(Err),label='result')\n",
    "plt.plot(np.log2(h),0*np.log2(Err),label='slope=0')\n",
    "plt.xlabel('log2(h)')\n",
    "plt.ylabel('log2(Err)')\n",
    "plt.legend()"
   ]
  },
  {
   "cell_type": "code",
   "execution_count": 77,
   "metadata": {},
   "outputs": [
    {
     "data": {
      "text/plain": [
       "array([5.55111512e-17, 2.77555756e-17, 7.49400542e-16, 6.66133815e-16])"
      ]
     },
     "execution_count": 77,
     "metadata": {},
     "output_type": "execute_result"
    }
   ],
   "source": [
    "Err"
   ]
  },
  {
   "cell_type": "code",
   "execution_count": null,
   "metadata": {},
   "outputs": [],
   "source": []
  },
  {
   "cell_type": "code",
   "execution_count": 91,
   "metadata": {},
   "outputs": [],
   "source": [
    "def solvePoisson3(m):\n",
    "    h=1/(m)\n",
    "    x=np.linspace(0,1,m+1)\n",
    "    A=(np.eye(m-1,k=1)-2*np.eye(m-1)+np.eye(m-1,k=-1))*(1/h)**2\n",
    "    \n",
    "    F=x[1:m]**2\n",
    "    F[np.where(x[1:m]<0.5)]=0.5*(x[1:m][np.where(x[1:m]<0.5)])\n",
    "    \n",
    "    [A,F]=GE(A,F)\n",
    "    \n",
    "    u=np.zeros(m-1)\n",
    "    u[m-1-1]=F[m-1-1]/A[m-1-1,m-1-1]\n",
    "    for i in range(m-2):\n",
    "        u[m-1-2-i]=(F[m-1-2-i]-np.dot(A[m-1-2-i][m-1-2-i+1:],u[m-1-2-i+1:]))/A[m-1-2-i,m-1-2-i]\n",
    "    return u"
   ]
  },
  {
   "cell_type": "code",
   "execution_count": 92,
   "metadata": {},
   "outputs": [
    {
     "data": {
      "text/plain": [
       "[<matplotlib.lines.Line2D at 0x243659ce610>]"
      ]
     },
     "execution_count": 92,
     "metadata": {},
     "output_type": "execute_result"
    },
    {
     "data": {
      "image/png": "[encoded data removed]",
      "text/plain": [
       "<Figure size 432x288 with 1 Axes>"
      ]
     },
     "metadata": {
      "needs_background": "light"
     },
     "output_type": "display_data"
    }
   ],
   "source": [
    "m=16\n",
    "u8=solvePoisson3(m)\n",
    "x=np.linspace(0,1,m+1)\n",
    "plt.plot(x[1:m],u8)\n",
    "exact=(1/12)*x[1:m]**4-(5/64)*x[1:m]-(1/192)\n",
    "exact[np.where(x[1:m]<0.5)]=(1/12)*(x[1:m][np.where(x[1:m]<0.5)])**3+(-19/192)*(x[1:m][np.where(x[1:m]<0.5)])\n",
    "    \n",
    "plt.plot(x[1:m],exact)"
   ]
  },
  {
   "cell_type": "code",
   "execution_count": null,
   "metadata": {},
   "outputs": [],
   "source": []
  },
  {
   "cell_type": "code",
   "execution_count": 112,
   "metadata": {},
   "outputs": [],
   "source": [
    "m=8\n",
    "u=solvePoisson3(m)\n",
    "x=np.linspace(0,1,m+1)\n",
    "exact=(1/12)*x[1:m]**4-(5/64)*x[1:m]-(1/192)\n",
    "exact[np.where(x[1:m]<0.5)]=(1/12)*(x[1:m][np.where(x[1:m]<0.5)])**3+(-19/192)*(x[1:m][np.where(x[1:m]<0.5)])\n",
    "err8=np.linalg.norm((u-exact),np.inf)"
   ]
  },
  {
   "cell_type": "code",
   "execution_count": 113,
   "metadata": {},
   "outputs": [],
   "source": [
    "m=16\n",
    "u=solvePoisson3(m)\n",
    "x=np.linspace(0,1,m+1)\n",
    "exact=(1/12)*x[1:m]**4-(5/64)*x[1:m]-(1/192)\n",
    "exact[np.where(x[1:m]<0.5)]=(1/12)*(x[1:m][np.where(x[1:m]<0.5)])**3+(-19/192)*(x[1:m][np.where(x[1:m]<0.5)])\n",
    "\n",
    "err16=np.linalg.norm((u-exact),np.inf)"
   ]
  },
  {
   "cell_type": "code",
   "execution_count": 114,
   "metadata": {},
   "outputs": [],
   "source": [
    "m=32\n",
    "u=solvePoisson3(m)\n",
    "x=np.linspace(0,1,m+1)\n",
    "exact=(1/12)*x[1:m]**4-(5/64)*x[1:m]-(1/192)\n",
    "exact[np.where(x[1:m]<0.5)]=(1/12)*(x[1:m][np.where(x[1:m]<0.5)])**3+(-19/192)*(x[1:m][np.where(x[1:m]<0.5)])\n",
    "\n",
    "err32=np.linalg.norm((u-exact),np.inf)"
   ]
  },
  {
   "cell_type": "code",
   "execution_count": 115,
   "metadata": {},
   "outputs": [],
   "source": [
    "m=64\n",
    "u=solvePoisson3(m)\n",
    "x=np.linspace(0,1,m+1)\n",
    "exact=(1/12)*x[1:m]**4-(5/64)*x[1:m]-(1/192)\n",
    "exact[np.where(x[1:m]<0.5)]=(1/12)*(x[1:m][np.where(x[1:m]<0.5)])**3+(-19/192)*(x[1:m][np.where(x[1:m]<0.5)])\n",
    "\n",
    "err64=np.linalg.norm((u-exact),np.inf)"
   ]
  },
  {
   "cell_type": "code",
   "execution_count": 116,
   "metadata": {},
   "outputs": [
    {
     "data": {
      "text/plain": [
       "1.999999999999877"
      ]
     },
     "execution_count": 116,
     "metadata": {},
     "output_type": "execute_result"
    }
   ],
   "source": [
    "np.log2((err8/err16))"
   ]
  },
  {
   "cell_type": "code",
   "execution_count": 117,
   "metadata": {},
   "outputs": [
    {
     "data": {
      "text/plain": [
       "1.9999999999945055"
      ]
     },
     "execution_count": 117,
     "metadata": {},
     "output_type": "execute_result"
    }
   ],
   "source": [
    "np.log2((err16/err32))"
   ]
  },
  {
   "cell_type": "code",
   "execution_count": 118,
   "metadata": {},
   "outputs": [
    {
     "data": {
      "text/plain": [
       "1.9999999999399702"
      ]
     },
     "execution_count": 118,
     "metadata": {},
     "output_type": "execute_result"
    }
   ],
   "source": [
    "np.log2((err32/err64))"
   ]
  },
  {
   "cell_type": "code",
   "execution_count": 119,
   "metadata": {},
   "outputs": [
    {
     "data": {
      "text/plain": [
       "<matplotlib.legend.Legend at 0x24365b5c2b0>"
      ]
     },
     "execution_count": 119,
     "metadata": {},
     "output_type": "execute_result"
    },
    {
     "data": {
      "image/png": "[encoded data removed]",
      "text/plain": [
       "<Figure size 432x288 with 1 Axes>"
      ]
     },
     "metadata": {
      "needs_background": "light"
     },
     "output_type": "display_data"
    }
   ],
   "source": [
    "Err=np.array([err8,err16,err32,err64])\n",
    "\n",
    "h=np.array([1/8,1/16,1/32,1/64])\n",
    "\n",
    "plt.plot(np.log2(h),np.log2(Err),label='result')\n",
    "plt.plot(np.log2(h),2*np.log2(h),label='slope=2')\n",
    "plt.xlabel('log2(h)')\n",
    "plt.ylabel('log2(Err)')\n",
    "plt.legend()"
   ]
  },
  {
   "cell_type": "code",
   "execution_count": 120,
   "metadata": {},
   "outputs": [
    {
     "data": {
      "text/plain": [
       "array([4.88281250e-04, 1.22070313e-04, 3.05175781e-05, 7.62939453e-06])"
      ]
     },
     "execution_count": 120,
     "metadata": {},
     "output_type": "execute_result"
    }
   ],
   "source": [
    "Err"
   ]
  },
  {
   "cell_type": "code",
   "execution_count": 102,
   "metadata": {},
   "outputs": [
    {
     "data": {
      "text/plain": [
       "0.0004882812499999861"
      ]
     },
     "execution_count": 102,
     "metadata": {},
     "output_type": "execute_result"
    }
   ],
   "source": [
    "err8"
   ]
  },
  {
   "cell_type": "code",
   "execution_count": null,
   "metadata": {},
   "outputs": [],
   "source": []
  }
 ],
 "metadata": {
  "kernelspec": {
   "display_name": "Python 3",
   "language": "python",
   "name": "python3"
  },
  "language_info": {
   "codemirror_mode": {
    "name": "ipython",
    "version": 3
   },
   "file_extension": ".py",
   "mimetype": "text/x-python",
   "name": "python",
   "nbconvert_exporter": "python",
   "pygments_lexer": "ipython3",
   "version": "3.8.5"
  }
 },
 "nbformat": 4,
 "nbformat_minor": 4
}
