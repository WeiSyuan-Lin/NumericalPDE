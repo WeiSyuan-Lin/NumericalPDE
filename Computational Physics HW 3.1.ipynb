{
 "cells": [
  {
   "cell_type": "markdown",
   "id": "formal-linux",
   "metadata": {},
   "source": [
    "309653002 林暐軒"
   ]
  },
  {
   "cell_type": "code",
   "execution_count": 1,
   "id": "sensitive-radical",
   "metadata": {},
   "outputs": [],
   "source": [
    "import numpy as np\n",
    "import matplotlib.pyplot as plt"
   ]
  },
  {
   "attachments": {},
   "cell_type": "markdown",
   "id": "piano-summary",
   "metadata": {},
   "source": [
    "1. Plot out $\\psi_n (x)$ for 𝑛= 1,2,3,4,5… of the infinite quantum well of width 𝑤=10nm \n"
   ]
  },
  {
   "cell_type": "code",
   "execution_count": 2,
   "id": "conceptual-beijing",
   "metadata": {},
   "outputs": [],
   "source": [
    "def psi(x,n,width):\n",
    "    # x is the position point ; n is state \n",
    "    y=np.zeros(len(x))\n",
    "    for i in range(len(y)):\n",
    "        if x[i]>0 and w>x[i]:\n",
    "            y[i]=np.sqrt(2/(width))*np.sin(n*np.pi*(x[i]/(width)))\n",
    "    return y"
   ]
  },
  {
   "cell_type": "code",
   "execution_count": 3,
   "id": "frequent-score",
   "metadata": {},
   "outputs": [],
   "source": [
    "def plot_PSI(x,n,width):\n",
    "    # draw the psi with different state\n",
    "    # x is the position point ; n is state \n",
    "    PSI=[]\n",
    "    for i in range(n):\n",
    "        y=psi(x,i+1,width)\n",
    "        PSI.append(y)\n",
    "    for k in range(n):\n",
    "        plt.plot(x,PSI[k])\n",
    "        plt.xlabel('x(nm)')\n",
    "        plt.ylabel('$\\psi(x)$')\n",
    "    return PSI"
   ]
  },
  {
   "cell_type": "code",
   "execution_count": 4,
   "id": "fifth-remedy",
   "metadata": {},
   "outputs": [
    {
     "data": {
      "image/png": "[encoded data removed]",
      "text/plain": [
       "<Figure size 432x288 with 1 Axes>"
      ]
     },
     "metadata": {
      "needs_background": "light"
     },
     "output_type": "display_data"
    }
   ],
   "source": [
    "n=3\n",
    "w=10\n",
    "x=np.linspace(-15,15,100)\n",
    "PSI=plot_PSI(x,n,w)"
   ]
  },
  {
   "cell_type": "code",
   "execution_count": null,
   "id": "brilliant-modification",
   "metadata": {},
   "outputs": [],
   "source": []
  },
  {
   "attachments": {},
   "cell_type": "markdown",
   "id": "given-session",
   "metadata": {},
   "source": [
    "2. Find the optical matrix elements $V_{n^{'},n}$ of the transition  from the lowest bound state $\\psi_{n=1}$ to the excited state $\\psi_{n^{'}}$ for $ 𝑛^{'}=2,3,4,5…$ under the resonant light with $\\omega=(E_{n^{′}}−E_n)/(h/2\\pi) $ using the Simpson rule for integration."
   ]
  },
  {
   "cell_type": "code",
   "execution_count": 5,
   "id": "billion-shareware",
   "metadata": {},
   "outputs": [],
   "source": [
    "def simpson_integral(a,b,n,f):\n",
    "    h=(b-a)/(2*n)\n",
    "    x=np.linspace(a,b,2*n+1)\n",
    "    y=f(x)\n",
    "    s=0\n",
    "    for i in range(n):\n",
    "        s=s+y[2*i]+4*y[2*i+1]+y[2*i+2]\n",
    "    return s*(h/3)"
   ]
  },
  {
   "cell_type": "code",
   "execution_count": 6,
   "id": "attended-bones",
   "metadata": {},
   "outputs": [],
   "source": [
    "def psi_x_psi(x,n_ini,n_fin,width):\n",
    "    #the function : psi_n' * x * psi_n\n",
    "    return psi(x,n_fin,width)*x*psi(x,n_ini,width)"
   ]
  },
  {
   "cell_type": "code",
   "execution_count": 7,
   "id": "third-positive",
   "metadata": {},
   "outputs": [],
   "source": [
    "def simpson_integral_for_V(a,b,n,n_ini,n_fin,width):\n",
    "    # base on simpson rule to approxamte the integral Vn'n=eE0 \\int dx psi_n' * x * psi_n\n",
    "    h=(b-a)/(2*n)\n",
    "    x=np.linspace(a,b,2*n+1)\n",
    "    y=psi_x_psi(x,n_ini,n_fin,width)\n",
    "    s=0\n",
    "    for i in range(n):\n",
    "        s=s+y[2*i]+4*y[2*i+1]+y[2*i+2]\n",
    "    return s*(h/3)"
   ]
  },
  {
   "cell_type": "code",
   "execution_count": 8,
   "id": "excited-travel",
   "metadata": {},
   "outputs": [],
   "source": [
    "def print_matrix_element(a,b,n,n_ini,width,eE0,m):\n",
    "    V=[]\n",
    "    for n_state in range(1,m+1):\n",
    "        n_fin=n_state\n",
    "        V.append(simpson_integral_for_V(a,b,n,n_ini,n_fin,width))\n",
    "        print('When n_fin=',n_fin,' the matix element V is', V[-1])\n",
    "        \n",
    "    return np.array(V)"
   ]
  },
  {
   "cell_type": "code",
   "execution_count": 9,
   "id": "entire-dominican",
   "metadata": {},
   "outputs": [
    {
     "name": "stdout",
     "output_type": "stream",
     "text": [
      "When n_fin= 1  the matix element V is 4.999999999999997\n",
      "When n_fin= 2  the matix element V is -1.8012655034322895\n",
      "When n_fin= 3  the matix element V is -7.120461627726134e-16\n",
      "When n_fin= 4  the matix element V is -0.14410127191148714\n",
      "When n_fin= 5  the matix element V is -9.05149797706765e-16\n",
      "When n_fin= 6  the matix element V is -0.03970141128090409\n",
      "When n_fin= 7  the matix element V is -3.063232537995712e-16\n",
      "When n_fin= 8  the matix element V is -0.016338075169786692\n",
      "When n_fin= 9  the matix element V is 9.072603779358701e-16\n",
      "When n_fin= 10  the matix element V is -0.008270356191211912\n",
      "When n_fin= 11  the matix element V is 3.544618302579276e-16\n",
      "When n_fin= 12  the matix element V is -0.004756730569475277\n",
      "When n_fin= 13  the matix element V is -6.974166614585423e-16\n",
      "When n_fin= 14  the matix element V is -0.002984462576096008\n",
      "When n_fin= 15  the matix element V is -4.712087201911667e-16\n",
      "When n_fin= 16  the matix element V is -0.0019946157692150926\n",
      "When n_fin= 17  the matix element V is 8.389122729823839e-16\n",
      "When n_fin= 18  the matix element V is -0.0013986374841138396\n",
      "When n_fin= 19  the matix element V is 7.031412489292658e-17\n",
      "When n_fin= 20  the matix element V is -0.0010184680526412904\n"
     ]
    }
   ],
   "source": [
    "w=10\n",
    "[a,b]=[0,10]\n",
    "n=100\n",
    "eE0=1\n",
    "n_ini=1\n",
    "m=20\n",
    "V=print_matrix_element(a,b,n,n_ini,w,eE0,m)"
   ]
  },
  {
   "cell_type": "code",
   "execution_count": 10,
   "id": "hollywood-disease",
   "metadata": {},
   "outputs": [
    {
     "data": {
      "text/plain": [
       "array([ 5.00000000e+00, -1.80126550e+00, -7.12046163e-16, -1.44101272e-01,\n",
       "       -9.05149798e-16, -3.97014113e-02, -3.06323254e-16, -1.63380752e-02,\n",
       "        9.07260378e-16, -8.27035619e-03,  3.54461830e-16, -4.75673057e-03,\n",
       "       -6.97416661e-16, -2.98446258e-03, -4.71208720e-16, -1.99461577e-03,\n",
       "        8.38912273e-16, -1.39863748e-03,  7.03141249e-17, -1.01846805e-03])"
      ]
     },
     "execution_count": 10,
     "metadata": {},
     "output_type": "execute_result"
    }
   ],
   "source": [
    "V"
   ]
  },
  {
   "cell_type": "code",
   "execution_count": null,
   "id": "dying-charter",
   "metadata": {},
   "outputs": [],
   "source": []
  }
 ],
 "metadata": {
  "kernelspec": {
   "display_name": "Python 3",
   "language": "python",
   "name": "python3"
  },
  "language_info": {
   "codemirror_mode": {
    "name": "ipython",
    "version": 3
   },
   "file_extension": ".py",
   "mimetype": "text/x-python",
   "name": "python",
   "nbconvert_exporter": "python",
   "pygments_lexer": "ipython3",
   "version": "3.8.8"
  }
 },
 "nbformat": 4,
 "nbformat_minor": 5
}
