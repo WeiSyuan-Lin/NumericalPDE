{
 "cells": [
  {
   "cell_type": "markdown",
   "id": "freelance-blocking",
   "metadata": {},
   "source": [
    "309653002 林暐軒"
   ]
  },
  {
   "cell_type": "markdown",
   "id": "constitutional-prescription",
   "metadata": {},
   "source": [
    "HW4.1 $\\hspace{2cm}$  An uniformly charged line"
   ]
  },
  {
   "attachments": {},
   "cell_type": "markdown",
   "id": "advised-slave",
   "metadata": {},
   "source": [
    "Consider a line charged uniformly with $\\rho(\\vec{r})=\\lambda\\delta(𝑥−𝑥_0,𝑦−𝑦_0)$ with $(x_0,𝑦_0)=(0,0)$ along the z-direction, where 𝜆 stands for the 1D charge density of the charged line. The Poisson’s equation describing the electrostatic system turns out to be a 2D problem and is written as \n",
    "$$\\frac{\\partial^2 𝑉}{\\partial𝑥^2}+\\frac{\\partial^2 𝑉}{\\partial𝑦^2}=−𝜆𝛿(𝑥,𝑦).$$\n"
   ]
  },
  {
   "attachments": {},
   "cell_type": "markdown",
   "id": "ahead-sauce",
   "metadata": {},
   "source": [
    "1 .Write a code to generate the matrix and vector of 𝑨 and 𝝆 in the FDM for arbitrary number of 2D grids i,j=0,1,2,..𝑁.\n"
   ]
  },
  {
   "cell_type": "code",
   "execution_count": 1,
   "id": "naval-indian",
   "metadata": {},
   "outputs": [],
   "source": [
    "import numpy as np\n",
    "import matplotlib.pyplot as plt"
   ]
  },
  {
   "cell_type": "code",
   "execution_count": 2,
   "id": "naked-layer",
   "metadata": {},
   "outputs": [
    {
     "data": {
      "text/plain": [
       "array([0., 0.])"
      ]
     },
     "execution_count": 2,
     "metadata": {},
     "output_type": "execute_result"
    }
   ],
   "source": [
    "# discrete the domain and find the singular point\n",
    "n=10 \n",
    "lamb=1\n",
    "x=np.linspace(-1,1,n+1)\n",
    "x=x[1:-1]\n",
    "y=np.linspace(-1,1,n+1)\n",
    "y=y[1:-1]\n",
    "[X,Y]=np.meshgrid(x,y)\n",
    "grid_points=np.hstack([X.reshape((n-1)**2,1),Y.reshape((n-1)**2,1)])\n",
    "grid_points.reshape(n-1,n-1,2)[int(n/2)-1][int(n/2)-1]"
   ]
  },
  {
   "cell_type": "code",
   "execution_count": null,
   "id": "durable-third",
   "metadata": {},
   "outputs": [],
   "source": []
  },
  {
   "cell_type": "code",
   "execution_count": 3,
   "id": "located-history",
   "metadata": {},
   "outputs": [],
   "source": [
    "def generate_matrix_A(n):\n",
    "    T=np.eye(n-1,k=1)-4*np.eye(n-1)+np.eye(n-1,k=-1)\n",
    "    I=np.eye(n-1)\n",
    "    I2=np.eye(n-1,k=1)+np.eye(n-1,k=-1)\n",
    "    A=np.kron(I,T)+np.kron(I2,I)\n",
    "    return A"
   ]
  },
  {
   "cell_type": "code",
   "execution_count": null,
   "id": "banned-interim",
   "metadata": {},
   "outputs": [],
   "source": []
  },
  {
   "cell_type": "code",
   "execution_count": 4,
   "id": "efficient-insert",
   "metadata": {},
   "outputs": [],
   "source": [
    "def generate_vector_pho(n,lamb):\n",
    "    h=1/n\n",
    "    F=np.zeros([(n-1)**2,1])\n",
    "    F=F.reshape(n-1,n-1)\n",
    "    F[int(n/2)-1][int(n/2)-1]=-1*lamb*(1/(h))**2\n",
    "    F=F.reshape((n-1)**2,1)\n",
    "    \n",
    "    return F"
   ]
  },
  {
   "attachments": {},
   "cell_type": "markdown",
   "id": "emerging-disaster",
   "metadata": {},
   "source": [
    "2.Solve 𝑽=𝑨^(−𝟏) 𝝆 with the use of 𝑁=3,11,51,…..\n",
    "\n",
    "3.Plot the contours of the solved potential in the x-y plane.\n"
   ]
  },
  {
   "cell_type": "code",
   "execution_count": 5,
   "id": "national-paragraph",
   "metadata": {},
   "outputs": [
    {
     "data": {
      "text/plain": [
       "<matplotlib.contour.QuadContourSet at 0x2a14b8e1a00>"
      ]
     },
     "execution_count": 5,
     "metadata": {},
     "output_type": "execute_result"
    },
    {
     "data": {
      "image/png": "[encoded data removed]",
      "text/plain": [
       "<Figure size 432x288 with 1 Axes>"
      ]
     },
     "metadata": {
      "needs_background": "light"
     },
     "output_type": "display_data"
    }
   ],
   "source": [
    "N=51\n",
    "n=N-1\n",
    "lamb=1\n",
    "\n",
    "A=generate_matrix_A(n)\n",
    "F=generate_vector_pho(n,lamb)\n",
    "\n",
    "V=np.linalg.solve(A,F)\n",
    "\n",
    "V=V.reshape(n-1,n-1)\n",
    "\n",
    "x=np.linspace(-1,1,n+1)\n",
    "y=np.linspace(-1,1,n+1)\n",
    "[X,Y]=np.meshgrid(x,y)\n",
    "Z=np.zeros([n+1,n+1])\n",
    "for i in range(n-1):\n",
    "    Z[1+i:2+i][0][1:-1]=V[i]\n",
    "plt.contourf(X,Y,Z)"
   ]
  },
  {
   "cell_type": "code",
   "execution_count": null,
   "id": "intensive-essence",
   "metadata": {},
   "outputs": [],
   "source": []
  }
 ],
 "metadata": {
  "kernelspec": {
   "display_name": "Python 3",
   "language": "python",
   "name": "python3"
  },
  "language_info": {
   "codemirror_mode": {
    "name": "ipython",
    "version": 3
   },
   "file_extension": ".py",
   "mimetype": "text/x-python",
   "name": "python",
   "nbconvert_exporter": "python",
   "pygments_lexer": "ipython3",
   "version": "3.8.8"
  }
 },
 "nbformat": 4,
 "nbformat_minor": 5
}
